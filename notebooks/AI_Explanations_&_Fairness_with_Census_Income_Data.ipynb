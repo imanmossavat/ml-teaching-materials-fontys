{
  "nbformat": 4,
  "nbformat_minor": 0,
  "metadata": {
    "colab": {
      "provenance": []
    },
    "kernelspec": {
      "name": "python3",
      "display_name": "Python 3"
    },
    "language_info": {
      "name": "python"
    }
  },
  "cells": [
    {
      "cell_type": "markdown",
      "source": [
        "Artificial Intelligence (AI) is everywhere:\n",
        "\n",
        "\n",
        "*   Social media decides what you see.\n",
        "*   Banks decide who gets a loan.\n",
        "*   Companies decide who gets hired.\n",
        "*   Governments decide who gets extra screening at the airport.\n",
        "\n",
        "AI is not neutral.\n",
        "\n",
        "It learns from data about the past; and the past often contains unfairness and bias. If we’re not careful, AI can copy and even amplify these problems.\n",
        "\n",
        "In this workshop, we will:\n",
        "\n",
        "**See AI make predictions**\n",
        "\n",
        "You’ll test a model that predicts whether someone earns more than $50K based on their personal data (from the U.S. Census).\n",
        "\n",
        "**Look inside the “black box”**\n",
        "\n",
        "With tools like SHAP, etc you’ll see why the model makes certain decisions.\n",
        "(we do not use SHAP because of speed)\n",
        "\n",
        "**Check for bias**\n",
        "\n",
        "You’ll compare predictions for different groups (men vs women) and ask: is this fair?\n",
        "\n",
        "**Reflect on ethics**\n",
        "\n",
        "What should we do when AI shows bias? Who is responsible?\n",
        "\n"
      ],
      "metadata": {
        "id": "-81TePtnFFhI"
      }
    },
    {
      "cell_type": "code",
      "source": [
        "!pip install shap"
      ],
      "metadata": {
        "colab": {
          "base_uri": "https://localhost:8080/"
        },
        "id": "IBB9F6JyD9-c",
        "outputId": "e431941b-2c27-448e-d404-b87e5b56ce30"
      },
      "execution_count": null,
      "outputs": [
        {
          "output_type": "stream",
          "name": "stdout",
          "text": [
            "Requirement already satisfied: shap in /usr/local/lib/python3.12/dist-packages (0.48.0)\n",
            "Requirement already satisfied: numpy in /usr/local/lib/python3.12/dist-packages (from shap) (2.0.2)\n",
            "Requirement already satisfied: scipy in /usr/local/lib/python3.12/dist-packages (from shap) (1.16.1)\n",
            "Requirement already satisfied: scikit-learn in /usr/local/lib/python3.12/dist-packages (from shap) (1.6.1)\n",
            "Requirement already satisfied: pandas in /usr/local/lib/python3.12/dist-packages (from shap) (2.2.2)\n",
            "Requirement already satisfied: tqdm>=4.27.0 in /usr/local/lib/python3.12/dist-packages (from shap) (4.67.1)\n",
            "Requirement already satisfied: packaging>20.9 in /usr/local/lib/python3.12/dist-packages (from shap) (25.0)\n",
            "Requirement already satisfied: slicer==0.0.8 in /usr/local/lib/python3.12/dist-packages (from shap) (0.0.8)\n",
            "Requirement already satisfied: numba>=0.54 in /usr/local/lib/python3.12/dist-packages (from shap) (0.60.0)\n",
            "Requirement already satisfied: cloudpickle in /usr/local/lib/python3.12/dist-packages (from shap) (3.1.1)\n",
            "Requirement already satisfied: typing-extensions in /usr/local/lib/python3.12/dist-packages (from shap) (4.15.0)\n",
            "Requirement already satisfied: llvmlite<0.44,>=0.43.0dev0 in /usr/local/lib/python3.12/dist-packages (from numba>=0.54->shap) (0.43.0)\n",
            "Requirement already satisfied: python-dateutil>=2.8.2 in /usr/local/lib/python3.12/dist-packages (from pandas->shap) (2.9.0.post0)\n",
            "Requirement already satisfied: pytz>=2020.1 in /usr/local/lib/python3.12/dist-packages (from pandas->shap) (2025.2)\n",
            "Requirement already satisfied: tzdata>=2022.7 in /usr/local/lib/python3.12/dist-packages (from pandas->shap) (2025.2)\n",
            "Requirement already satisfied: joblib>=1.2.0 in /usr/local/lib/python3.12/dist-packages (from scikit-learn->shap) (1.5.2)\n",
            "Requirement already satisfied: threadpoolctl>=3.1.0 in /usr/local/lib/python3.12/dist-packages (from scikit-learn->shap) (3.6.0)\n",
            "Requirement already satisfied: six>=1.5 in /usr/local/lib/python3.12/dist-packages (from python-dateutil>=2.8.2->pandas->shap) (1.17.0)\n"
          ]
        }
      ]
    },
    {
      "cell_type": "markdown",
      "source": [
        "Just run this cell do not modify!"
      ],
      "metadata": {
        "id": "9MpF0wYQE9eo"
      }
    },
    {
      "cell_type": "code",
      "execution_count": null,
      "metadata": {
        "colab": {
          "base_uri": "https://localhost:8080/"
        },
        "id": "dOaEC-F5D2BB",
        "outputId": "3aff7f81-ae2f-4254-ef65-873b9fd165b9"
      },
      "outputs": [
        {
          "output_type": "stream",
          "name": "stdout",
          "text": [
            "✅ Model ready! Accuracy on test set: 0.861\n"
          ]
        }
      ],
      "source": [
        "import shap\n",
        "import matplotlib.pyplot as plt\n",
        "import pandas as pd\n",
        "from sklearn.datasets import fetch_openml\n",
        "from sklearn.model_selection import train_test_split\n",
        "from sklearn.ensemble import RandomForestClassifier\n",
        "from sklearn.preprocessing import LabelEncoder\n",
        "\n",
        "# Load dataset\n",
        "data = fetch_openml(name=\"adult\", version=2, as_frame=True)\n",
        "df = data.frame.copy()\n",
        "\n",
        "# Use a smaller dataset for speed\n",
        "df_small = df.sample(5000, random_state=42)\n",
        "\n",
        "y = (df_small[\"class\"] == \">50K\").astype(int)\n",
        "X = df_small.drop(\"class\", axis=1)\n",
        "\n",
        "for col in X.select_dtypes(include=[\"category\", \"object\"]).columns:\n",
        "    X[col] = LabelEncoder().fit_transform(X[col])\n",
        "\n",
        "X_train, X_test, y_train, y_test = train_test_split(X, y, test_size=0.2, random_state=42)\n",
        "\n",
        "# Train simple model\n",
        "model = RandomForestClassifier(random_state=42)\n",
        "model.fit(X_train, y_train)\n",
        "\n",
        "print(\"✅ Model ready! Accuracy on test set:\", model.score(X_test, y_test))\n"
      ]
    },
    {
      "cell_type": "code",
      "source": [
        "# ===============================================\n",
        "# STEP 0b — Find person closest to 50-50\n",
        "# ===============================================\n",
        "import numpy as np\n",
        "\n",
        "# Predict probabilities for all training samples\n",
        "probs_train = model.predict_proba(X_train)[:, 1]  # probability of >50K\n",
        "\n",
        "# Find index of person closest to 0.5\n",
        "closest_idx = np.argmin(np.abs(probs_train - 0.5))\n",
        "\n",
        "# Extract that person\n",
        "baseline = X_train.iloc[closest_idx].copy()\n",
        "baseline_prob = probs_train[closest_idx]\n",
        "baseline_pred = model.predict([baseline])[0]\n",
        "\n",
        "print(\"=== Baseline person closest to 50-50 ===\")\n",
        "print(f\"index of person closest to 50-50 {closest_idx}\")\n",
        "print(baseline[[\"age\", \"sex\", \"education-num\", \"hours-per-week\"]])\n",
        "print(f\"Prediction: {'>50K income' if baseline_pred==1 else '<=50K income'}\")\n",
        "print(f\"Probability: {baseline_prob*100:.1f}% chance of >50K, {(1-baseline_prob)*100:.1f}% chance of <=50K\")\n"
      ],
      "metadata": {
        "colab": {
          "base_uri": "https://localhost:8080/"
        },
        "id": "WH6Yl6srI6Ko",
        "outputId": "b3bd6cf6-fd50-4596-dd2e-9afcb6877bab"
      },
      "execution_count": null,
      "outputs": [
        {
          "output_type": "stream",
          "name": "stdout",
          "text": [
            "=== Baseline person closest to 50-50 ===\n",
            "index of person closest to 50-50 2296\n",
            "age               47\n",
            "sex                1\n",
            "education-num      9\n",
            "hours-per-week    40\n",
            "Name: 4034, dtype: int64\n",
            "Prediction: >50K income\n",
            "Probability: 56.0% chance of >50K, 44.0% chance of <=50K\n"
          ]
        },
        {
          "output_type": "stream",
          "name": "stderr",
          "text": [
            "/usr/local/lib/python3.12/dist-packages/sklearn/utils/validation.py:2739: UserWarning: X does not have valid feature names, but RandomForestClassifier was fitted with feature names\n",
            "  warnings.warn(\n"
          ]
        }
      ]
    },
    {
      "cell_type": "markdown",
      "source": [
        "We’ll use real-world data (like age, education, gender, hours worked per week) to predict:\n",
        "👉 “Does this person earn more than 50K?” (Adult Income dataset)\n",
        "OR\n",
        "👉 “Does this person get good credit?” (German Credit dataset)\n",
        "\n",
        "What to do\n",
        "\n",
        "Find the code block with a person = {...} dictionary.\n",
        "\n",
        "Change some values, for example:\n",
        "\n",
        "age → try 20 vs. 60\n",
        "\n",
        "sex → switch between male/female\n",
        "\n",
        "hours-per-week → try 20 vs. 60\n",
        "\n",
        "Run the cell and see how the prediction changes."
      ],
      "metadata": {
        "id": "N27VlM3HEPHy"
      }
    },
    {
      "cell_type": "code",
      "source": [
        "# ===============================================\n",
        "# STEP 1 — PLAY WITH PREDICTIONS\n",
        "# ===============================================\n",
        "# 🧑‍🎓 INSTRUCTION:\n",
        "# We start from a real person in the dataset (baseline).\n",
        "# Look at their characteristics below.\n",
        "# Then change some values (age, sex, hours-per-week, education-num).\n",
        "# Run the cell again and compare predictions!\n",
        "\n",
        "# Pick a baseline person from the test set\n",
        "baseline = X_train.iloc[2296].copy()\n",
        "#baseline = X_train.iloc[0].copy()\n",
        "\n",
        "# Save original for comparison\n",
        "original_person = baseline.copy()\n",
        "\n",
        "def predict_one(person_series):\n",
        "    sample = pd.DataFrame([person_series])\n",
        "    pred = model.predict(sample)[0]\n",
        "    prob = model.predict_proba(sample)[0]\n",
        "    return pred, prob\n",
        "\n",
        "# 👩‍🎓 STUDENT: Change only these features\n",
        "baseline[\"age\"] = 25            # Try 20 vs 60\n",
        "baseline[\"sex\"] = 1            # 0 = Female, 1 = Male\n",
        "baseline[\"education-num\"] = 10  # 9 = HS-grad, 13 = Bachelors, 16 = PhD\n",
        "baseline[\"hours-per-week\"] = 40 # Try 20 vs 60\n",
        "\n",
        "# Predictions for both\n",
        "orig_pred, orig_prob = predict_one(original_person)\n",
        "new_pred, new_prob = predict_one(baseline)\n",
        "\n",
        "# Show before/after\n",
        "print(\"=== Original person ===\")\n",
        "print(original_person[[\"age\", \"sex\", \"education-num\", \"hours-per-week\"]])\n",
        "print(f\"Prediction: {'>50K income' if orig_pred==1 else '<=50K income'}\")\n",
        "print(f\"Probability: {orig_prob[1]*100:.1f}% chance of >50K, {orig_prob[0]*100:.1f}% chance of <=50K\")\n",
        "\n",
        "print(\"\\n=== Changed person ===\")\n",
        "print(baseline[[\"age\", \"sex\", \"education-num\", \"hours-per-week\"]])\n",
        "print(f\"Prediction: {'>50K income' if new_pred==1 else '<=50K income'}\")\n",
        "print(f\"Probability: {new_prob[1]*100:.1f}% chance of >50K, {new_prob[0]*100:.1f}% chance of <=50K\")\n"
      ],
      "metadata": {
        "colab": {
          "base_uri": "https://localhost:8080/"
        },
        "id": "-3-r9-hiEXYB",
        "outputId": "ff8938b9-6f83-4db1-cec2-9a628f98c728"
      },
      "execution_count": null,
      "outputs": [
        {
          "output_type": "stream",
          "name": "stdout",
          "text": [
            "=== Original person ===\n",
            "age               47\n",
            "sex                1\n",
            "education-num      9\n",
            "hours-per-week    40\n",
            "Name: 4034, dtype: int64\n",
            "Prediction: >50K income\n",
            "Probability: 56.0% chance of >50K, 44.0% chance of <=50K\n",
            "\n",
            "=== Changed person ===\n",
            "age               25\n",
            "sex                1\n",
            "education-num     10\n",
            "hours-per-week    40\n",
            "Name: 4034, dtype: int64\n",
            "Prediction: <=50K income\n",
            "Probability: 2.0% chance of >50K, 98.0% chance of <=50K\n"
          ]
        }
      ]
    },
    {
      "cell_type": "markdown",
      "source": [
        "**Look Inside the AI’s “Brain”**\n",
        "\n",
        "The AI isn’t magic. Tools like SHAP show which features mattered most for a prediction.\n",
        "\n",
        "What to do\n",
        "\n",
        "Run the explanation cell (don’t worry about the code).\n",
        "\n",
        "You’ll see a chart:\n",
        "\n",
        "Features in red push the model toward a “yes” (e.g., >50K income).\n",
        "\n",
        "Features in blue push it toward “no.”\n",
        "\n",
        "Try this\n",
        "\n",
        "Compare explanations for two people:\n",
        "\n",
        "A young woman, working 40h with a Bachelor’s degree.\n",
        "\n",
        "A young man, same profile.\n",
        "\n",
        "What’s different?"
      ],
      "metadata": {
        "id": "woidIqjHEdWH"
      }
    },
    {
      "cell_type": "code",
      "source": [
        "# ===============================================\n",
        "# STEP 2 — EXPLAIN THE DECISION (simple & fast)\n",
        "# ===============================================\n",
        "# 🧑‍🎓 INSTRUCTION:\n",
        "# This shows which features the model finds most important overall.\n",
        "# Then we look at how ONE person's features influence their prediction.\n",
        "\n",
        "from sklearn.inspection import permutation_importance\n",
        "\n",
        "# Global feature importance (which features matter most)\n",
        "result = permutation_importance(model, X_test, y_test, n_repeats=5, random_state=42)\n",
        "importances = pd.Series(result.importances_mean, index=X.columns).sort_values(ascending=False)\n",
        "\n",
        "print(\"=== Top 10 most important features (overall) ===\")\n",
        "print(importances.head(10))\n",
        "\n",
        "# 👩‍🎓 STUDENT: Change this index to inspect different people\n",
        "i = 0\n",
        "person = X_test.iloc[i]\n",
        "pred = model.predict([person])[0]\n",
        "prob = model.predict_proba([person])[0][1]\n",
        "\n",
        "print(\"\\n=== Person's key features ===\")\n",
        "print(person[[\"age\", \"sex\", \"education-num\", \"hours-per-week\"]])\n",
        "print(f\"Model prediction: {'>50K income' if pred==1 else '<=50K income'}\")\n",
        "print(f\"Probability of >50K: {prob*100:.1f}%\")\n",
        "\n",
        "# Local \"explanation\" (just show this person’s values in context of top features)\n",
        "print(\"\\n=== Why this prediction? ===\")\n",
        "for feat in importances.head(5).index:\n",
        "    print(f\"{feat}: {person[feat]}\")\n"
      ],
      "metadata": {
        "colab": {
          "base_uri": "https://localhost:8080/"
        },
        "id": "vAHosp2wEfix",
        "outputId": "72c31660-95cc-4f9e-f530-2add2f3a322a"
      },
      "execution_count": null,
      "outputs": [
        {
          "output_type": "stream",
          "name": "stdout",
          "text": [
            "=== Top 10 most important features (overall) ===\n",
            "capital-gain      0.0598\n",
            "age               0.0212\n",
            "relationship      0.0204\n",
            "education-num     0.0188\n",
            "marital-status    0.0106\n",
            "occupation        0.0100\n",
            "hours-per-week    0.0050\n",
            "capital-loss      0.0050\n",
            "workclass         0.0044\n",
            "sex               0.0004\n",
            "dtype: float64\n",
            "\n",
            "=== Person's key features ===\n",
            "age               24\n",
            "sex                0\n",
            "education-num     13\n",
            "hours-per-week    40\n",
            "Name: 10544, dtype: int64\n",
            "Model prediction: <=50K income\n",
            "Probability of >50K: 1.0%\n",
            "\n",
            "=== Why this prediction? ===\n",
            "capital-gain: 0\n",
            "age: 24\n",
            "relationship: 1\n",
            "education-num: 13\n",
            "marital-status: 4\n"
          ]
        },
        {
          "output_type": "stream",
          "name": "stderr",
          "text": [
            "/usr/local/lib/python3.12/dist-packages/sklearn/utils/validation.py:2739: UserWarning: X does not have valid feature names, but RandomForestClassifier was fitted with feature names\n",
            "  warnings.warn(\n",
            "/usr/local/lib/python3.12/dist-packages/sklearn/utils/validation.py:2739: UserWarning: X does not have valid feature names, but RandomForestClassifier was fitted with feature names\n",
            "  warnings.warn(\n"
          ]
        }
      ]
    },
    {
      "cell_type": "markdown",
      "source": [
        "**Group Bias Check**\n",
        "\n",
        "AI might not treat groups equally.\n",
        "In this step, you’ll run a cell that shows the average prediction for men vs. women.\n",
        "\n",
        "👉 Look carefully: are the averages very different?"
      ],
      "metadata": {
        "id": "7V3h6E8mEnDL"
      }
    },
    {
      "cell_type": "code",
      "source": [
        "# ===============================================\n",
        "# CHECK FOR GROUP BIAS\n",
        "# ===============================================\n",
        "# 🧑‍🎓 INSTRUCTION:\n",
        "# Here we compare the *average predicted income probability*\n",
        "# for men vs women. Do you see a difference?\n",
        "\n",
        "male_idx = X_test[\"sex\"] == 1\n",
        "female_idx = X_test[\"sex\"] == 0\n",
        "\n",
        "male_pred = model.predict_proba(X_test[male_idx])[:,1].mean()\n",
        "female_pred = model.predict_proba(X_test[female_idx])[:,1].mean()\n",
        "\n",
        "print(\"Average >50K prediction for men   :\", round(male_pred, 3))\n",
        "print(\"Average >50K prediction for women :\", round(female_pred, 3))\n"
      ],
      "metadata": {
        "colab": {
          "base_uri": "https://localhost:8080/"
        },
        "id": "F3etO4n0Epau",
        "outputId": "723a1610-22ca-4413-8e9c-0b146ce55ab0"
      },
      "execution_count": null,
      "outputs": [
        {
          "output_type": "stream",
          "name": "stdout",
          "text": [
            "Average >50K prediction for men   : 0.309\n",
            "Average >50K prediction for women : 0.115\n"
          ]
        }
      ]
    },
    {
      "cell_type": "markdown",
      "source": [
        "**Reflection Questions**\n",
        "\n",
        "\n",
        "Patterns: What inputs had the biggest effect on predictions?\n",
        "\n",
        "Bias: Did you see differences between men and women? Between young and old?\n",
        "\n",
        "Fairness: If this AI was used in hiring or banking, what could go wrong?\n",
        "\n",
        "Responsibility: Who should make sure AI systems are fair — the programmers, the companies, or society/laws?\n",
        "\n"
      ],
      "metadata": {
        "id": "qlfrx0vjEu7g"
      }
    }
  ]
}